{
 "cells": [
  {
   "cell_type": "code",
   "execution_count": 1,
   "id": "487e285f",
   "metadata": {},
   "outputs": [],
   "source": [
    "import time\n",
    "\n",
    "from selenium import webdriver\n",
    "from selenium.webdriver.common.keys import Keys\n",
    "from selenium.webdriver.common.by import By\n",
    "from selenium.common.exceptions import NoSuchElementException"
   ]
  },
  {
   "cell_type": "code",
   "execution_count": 3,
   "id": "ebb0df56",
   "metadata": {},
   "outputs": [],
   "source": [
    "chrome_path = \"C:\\\\Users\\sai.sarvani.yechuri\\Downloads\\Comparing Cosmetics by Ingredients\\chromedriver.exe\""
   ]
  },
  {
   "cell_type": "code",
   "execution_count": 4,
   "id": "9ed55e7b",
   "metadata": {},
   "outputs": [],
   "source": [
    "def scrollDown(driver, n_scroll):\n",
    "    body = driver.find_element_by_tag_name(\"body\")\n",
    "    while n_scroll >= 0:\n",
    "        body.send_keys(Keys.PAGE_DOWN)\n",
    "        n_scroll -= 1\n",
    "    return driver"
   ]
  },
  {
   "cell_type": "code",
   "execution_count": 5,
   "id": "debcf433",
   "metadata": {},
   "outputs": [],
   "source": [
    "driver = webdriver.Chrome(executable_path = chrome_path)"
   ]
  },
  {
   "cell_type": "code",
   "execution_count": 6,
   "id": "8f6fbf3b",
   "metadata": {},
   "outputs": [],
   "source": [
    "url = 'https://www.sephora.com'\n",
    "driver.get(url)"
   ]
  },
  {
   "cell_type": "markdown",
   "id": "97cc3e46",
   "metadata": {},
   "source": [
    "xpath = '/html/body/div[5]/div/div/div[1]/div/div/button'\n",
    "btn = driver.find_element_by_xpath(xpath)\n",
    "btn.click()\n",
    "xpath2 = '/html/body/div[3]/div/div/div[1]/div/div/div[2]/form/div[3]/div/div[1]/button'\n",
    "btn = driver.find_element_by_xpath(xpath2)\n",
    "btn.click()"
   ]
  },
  {
   "cell_type": "code",
   "execution_count": 9,
   "id": "2451e07d",
   "metadata": {},
   "outputs": [
    {
     "name": "stdout",
     "output_type": "stream",
     "text": [
      "Empty DataFrame\n",
      "Columns: [Label, URL]\n",
      "Index: []\n"
     ]
    }
   ],
   "source": [
    "# initiate empty dataframe\n",
    "import pandas as pd\n",
    "df = pd.DataFrame(columns=['Label', 'URL'])\n",
    "print(df)"
   ]
  },
  {
   "cell_type": "code",
   "execution_count": 12,
   "id": "b188088c",
   "metadata": {},
   "outputs": [],
   "source": [
    "# step 1\n",
    "tickers = ['moisturizing-cream-oils-mists', 'cleanser', 'facial-treatments', 'face-mask',\n",
    "           'eye-treatment-dark-circle-treatment', 'sunscreen-sun-protection']\n",
    "\n",
    "for ticker in tickers:\n",
    "    url = 'https://www.sephora.com/shop/' + ticker + '?pageSize=300'\n",
    "    driver.get(url)\n",
    "\n",
    "    xpath = '/html/body/div[1]/div[2]/div/div/div/div/div[1]/main/div/div[2]'\n",
    "    #/html/body/div[5]/div/div/div[1]/div/div/button\n",
    "    btn = driver.find_element_by_xpath(xpath)\n",
    "    btn.click()\n",
    "    time.sleep(20)\n",
    "\n",
    "    browser = scrollDown(driver, 10)\n",
    "    time.sleep(10)\n",
    "\n",
    "    browser = scrollDown(driver, 10)\n",
    "    time.sleep(10)\n",
    "\n",
    "    browser = scrollDown(driver, 10)\n",
    "    time.sleep(10)\n",
    "\n",
    "    browser = scrollDown(driver, 10)\n",
    "\n",
    "    element = driver.find_elements_by_class_name('css-ix8km1')\n",
    "\n",
    "    subpageURL = []\n",
    "    for a in element:\n",
    "        subURL = a.get_attribute('href')\n",
    "        subpageURL.append(subURL)\n",
    "\n",
    "    # transform into a data frame\n",
    "    dic = {'Label': ticker, 'URL': subpageURL}\n",
    "    df = df.append(pd.DataFrame(dic), ignore_index = True)"
   ]
  },
  {
   "cell_type": "code",
   "execution_count": 13,
   "id": "bea2d491",
   "metadata": {},
   "outputs": [],
   "source": [
    "# add columns\n",
    "df2 = pd.DataFrame(columns=['brand', 'name', 'price', 'rank', 'skin_type', 'ingredients'])\n",
    "df = pd.concat([df, df2], axis = 1)"
   ]
  },
  {
   "cell_type": "code",
   "execution_count": 17,
   "id": "50763a8c",
   "metadata": {},
   "outputs": [
    {
     "ename": "IndexError",
     "evalue": "index 0 is out of bounds for axis 0 with size 0",
     "output_type": "error",
     "traceback": [
      "\u001b[1;31m---------------------------------------------------------------------------\u001b[0m",
      "\u001b[1;31mIndexError\u001b[0m                                Traceback (most recent call last)",
      "\u001b[1;32mC:\\Users\\SAISAR~1.YEC\\AppData\\Local\\Temp/ipykernel_21640/955409879.py\u001b[0m in \u001b[0;36m<module>\u001b[1;34m\u001b[0m\n\u001b[0;32m      1\u001b[0m \u001b[1;31m# step 2\u001b[0m\u001b[1;33m\u001b[0m\u001b[1;33m\u001b[0m\u001b[1;33m\u001b[0m\u001b[0m\n\u001b[0;32m      2\u001b[0m \u001b[1;32mfor\u001b[0m \u001b[0mi\u001b[0m \u001b[1;32min\u001b[0m \u001b[0mrange\u001b[0m\u001b[1;33m(\u001b[0m\u001b[0mlen\u001b[0m\u001b[1;33m(\u001b[0m\u001b[0mdf\u001b[0m\u001b[1;33m)\u001b[0m\u001b[1;33m+\u001b[0m\u001b[1;36m1\u001b[0m\u001b[1;33m)\u001b[0m\u001b[1;33m:\u001b[0m\u001b[1;33m\u001b[0m\u001b[1;33m\u001b[0m\u001b[0m\n\u001b[1;32m----> 3\u001b[1;33m     \u001b[0murl\u001b[0m \u001b[1;33m=\u001b[0m \u001b[0mdf\u001b[0m\u001b[1;33m.\u001b[0m\u001b[0mURL\u001b[0m\u001b[1;33m[\u001b[0m\u001b[0mi\u001b[0m\u001b[1;33m]\u001b[0m\u001b[1;33m\u001b[0m\u001b[1;33m\u001b[0m\u001b[0m\n\u001b[0m\u001b[0;32m      4\u001b[0m     \u001b[0mdriver\u001b[0m\u001b[1;33m.\u001b[0m\u001b[0mget\u001b[0m\u001b[1;33m(\u001b[0m\u001b[0murl\u001b[0m\u001b[1;33m)\u001b[0m\u001b[1;33m\u001b[0m\u001b[1;33m\u001b[0m\u001b[0m\n\u001b[0;32m      5\u001b[0m     \u001b[0mtime\u001b[0m\u001b[1;33m.\u001b[0m\u001b[0msleep\u001b[0m\u001b[1;33m(\u001b[0m\u001b[1;36m5\u001b[0m\u001b[1;33m)\u001b[0m\u001b[1;33m\u001b[0m\u001b[1;33m\u001b[0m\u001b[0m\n",
      "\u001b[1;32m~\\Anaconda3\\lib\\site-packages\\pandas\\core\\series.py\u001b[0m in \u001b[0;36m__getitem__\u001b[1;34m(self, key)\u001b[0m\n\u001b[0;32m    848\u001b[0m \u001b[1;33m\u001b[0m\u001b[0m\n\u001b[0;32m    849\u001b[0m         \u001b[1;32mif\u001b[0m \u001b[0mis_integer\u001b[0m\u001b[1;33m(\u001b[0m\u001b[0mkey\u001b[0m\u001b[1;33m)\u001b[0m \u001b[1;32mand\u001b[0m \u001b[0mself\u001b[0m\u001b[1;33m.\u001b[0m\u001b[0mindex\u001b[0m\u001b[1;33m.\u001b[0m\u001b[0m_should_fallback_to_positional\u001b[0m\u001b[1;33m(\u001b[0m\u001b[1;33m)\u001b[0m\u001b[1;33m:\u001b[0m\u001b[1;33m\u001b[0m\u001b[1;33m\u001b[0m\u001b[0m\n\u001b[1;32m--> 850\u001b[1;33m             \u001b[1;32mreturn\u001b[0m \u001b[0mself\u001b[0m\u001b[1;33m.\u001b[0m\u001b[0m_values\u001b[0m\u001b[1;33m[\u001b[0m\u001b[0mkey\u001b[0m\u001b[1;33m]\u001b[0m\u001b[1;33m\u001b[0m\u001b[1;33m\u001b[0m\u001b[0m\n\u001b[0m\u001b[0;32m    851\u001b[0m \u001b[1;33m\u001b[0m\u001b[0m\n\u001b[0;32m    852\u001b[0m         \u001b[1;32melif\u001b[0m \u001b[0mkey_is_scalar\u001b[0m\u001b[1;33m:\u001b[0m\u001b[1;33m\u001b[0m\u001b[1;33m\u001b[0m\u001b[0m\n",
      "\u001b[1;31mIndexError\u001b[0m: index 0 is out of bounds for axis 0 with size 0"
     ]
    }
   ],
   "source": [
    "# step 2\n",
    "for i in range(len(df)+1):\n",
    "    url = df.URL[i]\n",
    "    driver.get(url)\n",
    "    time.sleep(5)\n",
    "\n",
    "    xpath = '/html/body/div[1]/div[2]/div/div/div/div/div[1]/main/div/div[2]'\n",
    "    btn = driver.find_element_by_xpath(xpath)\n",
    "    btn.click()\n",
    "\n",
    "    # brand, name, price\n",
    "    df.brand[i] = driver.find_element_by_class_name('css-avdj50').text\n",
    "    df.name[i] = driver.find_element_by_class_name('css-r4ddnb ').text\n",
    "    df.price[i] = driver.find_element_by_class_name('css-n8yjg7 ').text\n",
    "\n",
    "    browser = scrollDown(driver, 1)\n",
    "    time.sleep(5)\n",
    "    browser = scrollDown(driver, 1)\n",
    "    time.sleep(5)\n",
    "\n",
    "    # skin_type\n",
    "    detail = driver.find_element_by_class_name('css-192qj50').text\n",
    "    pattern = r\"✔ \\w+\\n\"\n",
    "    df.skin_type[i] = re.findall(pattern, detail)\n",
    "\n",
    "    # ingredients\n",
    "    xpath = '//*[@id=\"tab2\"]'\n",
    "    btn = driver.find_element_by_xpath(xpath)\n",
    "    btn.click()\n",
    "\n",
    "    try:\n",
    "        df.ingredients[i] = driver.find_element_by_xpath('//*[@id=\"tabpanel2\"]/div').text\n",
    "    except NoSuchElementException:\n",
    "        df.ingredients[i] = 'No Info'\n",
    "\n",
    "    # rank\n",
    "    try:\n",
    "        rank = driver.find_element_by_class_name('css-ffj77u').text\n",
    "        rank = re.match('\\d.\\d', rank).group()\n",
    "        df['rank'][i] = str(rank)\n",
    "\n",
    "    except NoSuchElementException:\n",
    "        df['rank'][i] = 0\n",
    "\n",
    "    print(i)    # just for verbose"
   ]
  },
  {
   "cell_type": "code",
   "execution_count": null,
   "id": "8724a062",
   "metadata": {},
   "outputs": [],
   "source": [
    "df.to_csv('datasets/cosmetics.csv', encoding = 'utf-8-sig', index = False)"
   ]
  }
 ],
 "metadata": {
  "kernelspec": {
   "display_name": "Python 3 (ipykernel)",
   "language": "python",
   "name": "python3"
  },
  "language_info": {
   "codemirror_mode": {
    "name": "ipython",
    "version": 3
   },
   "file_extension": ".py",
   "mimetype": "text/x-python",
   "name": "python",
   "nbconvert_exporter": "python",
   "pygments_lexer": "ipython3",
   "version": "3.8.11"
  }
 },
 "nbformat": 4,
 "nbformat_minor": 5
}
