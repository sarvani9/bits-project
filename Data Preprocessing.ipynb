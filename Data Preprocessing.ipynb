{
 "cells": [
  {
   "cell_type": "code",
   "execution_count": 1,
   "id": "3d4cd958",
   "metadata": {},
   "outputs": [],
   "source": [
    "import pandas as pd\n",
    "import numpy as np\n",
    "import re\n",
    "import matplotlib.pyplot as plt"
   ]
  },
  {
   "cell_type": "code",
   "execution_count": 4,
   "id": "b9d871fc",
   "metadata": {},
   "outputs": [
    {
     "name": "stdout",
     "output_type": "stream",
     "text": [
      "<class 'pandas.core.frame.DataFrame'>\n",
      "RangeIndex: 1630 entries, 0 to 1629\n",
      "Data columns (total 8 columns):\n",
      " #   Column       Non-Null Count  Dtype  \n",
      "---  ------       --------------  -----  \n",
      " 0   Label        1630 non-null   object \n",
      " 1   URL          1630 non-null   object \n",
      " 2   brand        1626 non-null   object \n",
      " 3   name         1626 non-null   object \n",
      " 4   price        1626 non-null   object \n",
      " 5   rank         1624 non-null   float64\n",
      " 6   skin_type    1626 non-null   object \n",
      " 7   ingredients  1625 non-null   object \n",
      "dtypes: float64(1), object(7)\n",
      "memory usage: 102.0+ KB\n",
      "<class 'pandas.core.frame.DataFrame'>\n",
      "Int64Index: 1625 entries, 0 to 1629\n",
      "Data columns (total 8 columns):\n",
      " #   Column       Non-Null Count  Dtype  \n",
      "---  ------       --------------  -----  \n",
      " 0   Label        1625 non-null   object \n",
      " 1   URL          1625 non-null   object \n",
      " 2   brand        1625 non-null   object \n",
      " 3   name         1625 non-null   object \n",
      " 4   price        1625 non-null   object \n",
      " 5   rank         1623 non-null   float64\n",
      " 6   skin_type    1625 non-null   object \n",
      " 7   ingredients  1625 non-null   object \n",
      "dtypes: float64(1), object(7)\n",
      "memory usage: 114.3+ KB\n"
     ]
    }
   ],
   "source": [
    "# step 1. cleaning data\n",
    "cosm = pd.read_csv('datasets/cosmetic.csv')\n",
    "cosm.info()\n",
    "\n",
    "cosm = cosm.loc[pd.notnull(cosm['ingredients'])]\n",
    "cosm.info()"
   ]
  },
  {
   "cell_type": "code",
   "execution_count": 5,
   "id": "8f5eb025",
   "metadata": {},
   "outputs": [
    {
     "name": "stderr",
     "output_type": "stream",
     "text": [
      "C:\\Users\\SAISAR~1.YEC\\AppData\\Local\\Temp/ipykernel_15648/2748207914.py:3: SettingWithCopyWarning: \n",
      "A value is trying to be set on a copy of a slice from a DataFrame\n",
      "\n",
      "See the caveats in the documentation: https://pandas.pydata.org/pandas-docs/stable/user_guide/indexing.html#returning-a-view-versus-a-copy\n",
      "  cosm.Label[cosm['Label'] == 'cleanser'] = str('Cleanser')\n",
      "C:\\Users\\SAISAR~1.YEC\\AppData\\Local\\Temp/ipykernel_15648/2748207914.py:4: SettingWithCopyWarning: \n",
      "A value is trying to be set on a copy of a slice from a DataFrame\n",
      "\n",
      "See the caveats in the documentation: https://pandas.pydata.org/pandas-docs/stable/user_guide/indexing.html#returning-a-view-versus-a-copy\n",
      "  cosm.Label[cosm['Label'] == 'facial-treatments'] = str('Treatment')\n",
      "C:\\Users\\SAISAR~1.YEC\\AppData\\Local\\Temp/ipykernel_15648/2748207914.py:5: SettingWithCopyWarning: \n",
      "A value is trying to be set on a copy of a slice from a DataFrame\n",
      "\n",
      "See the caveats in the documentation: https://pandas.pydata.org/pandas-docs/stable/user_guide/indexing.html#returning-a-view-versus-a-copy\n",
      "  cosm.Label[cosm['Label'] == 'face-mask'] = str('Face Mask')\n",
      "C:\\Users\\SAISAR~1.YEC\\AppData\\Local\\Temp/ipykernel_15648/2748207914.py:6: SettingWithCopyWarning: \n",
      "A value is trying to be set on a copy of a slice from a DataFrame\n",
      "\n",
      "See the caveats in the documentation: https://pandas.pydata.org/pandas-docs/stable/user_guide/indexing.html#returning-a-view-versus-a-copy\n",
      "  cosm.Label[cosm['Label'] == 'eye-treatment-dark-circle-treatment'] = str('Eye cream')\n",
      "C:\\Users\\SAISAR~1.YEC\\AppData\\Local\\Temp/ipykernel_15648/2748207914.py:7: SettingWithCopyWarning: \n",
      "A value is trying to be set on a copy of a slice from a DataFrame\n",
      "\n",
      "See the caveats in the documentation: https://pandas.pydata.org/pandas-docs/stable/user_guide/indexing.html#returning-a-view-versus-a-copy\n",
      "  cosm.Label[cosm['Label'] == 'sunscreen-sun-protection'] = str('Sun protect')\n"
     ]
    }
   ],
   "source": [
    "# label\n",
    "cosm.Label[cosm['Label'] == 'moisturizing-cream-oils-mists'] = str('Moisturizer')\n",
    "cosm.Label[cosm['Label'] == 'cleanser'] = str('Cleanser')\n",
    "cosm.Label[cosm['Label'] == 'facial-treatments'] = str('Treatment')\n",
    "cosm.Label[cosm['Label'] == 'face-mask'] = str('Face Mask')\n",
    "cosm.Label[cosm['Label'] == 'eye-treatment-dark-circle-treatment'] = str('Eye cream')\n",
    "cosm.Label[cosm['Label'] == 'sunscreen-sun-protection'] = str('Sun protect')"
   ]
  },
  {
   "cell_type": "code",
   "execution_count": 6,
   "id": "f1fbe700",
   "metadata": {},
   "outputs": [],
   "source": [
    "# name -> duplicated item\n",
    "df_2 = cosm['name'].drop_duplicates()\n",
    "cosm = cosm.loc[df_2.index, :].reset_index()"
   ]
  },
  {
   "cell_type": "code",
   "execution_count": 7,
   "id": "0bc04ae6",
   "metadata": {},
   "outputs": [],
   "source": [
    "# URL\n",
    "cosm.drop(['URL', 'index'], axis = 1, inplace = True)"
   ]
  },
  {
   "cell_type": "code",
   "execution_count": 8,
   "id": "6a07b387",
   "metadata": {},
   "outputs": [
    {
     "name": "stderr",
     "output_type": "stream",
     "text": [
      "C:\\Users\\SAISAR~1.YEC\\AppData\\Local\\Temp/ipykernel_15648/3674295657.py:4: SettingWithCopyWarning: \n",
      "A value is trying to be set on a copy of a slice from a DataFrame\n",
      "\n",
      "See the caveats in the documentation: https://pandas.pydata.org/pandas-docs/stable/user_guide/indexing.html#returning-a-view-versus-a-copy\n",
      "  cosm['price'][i] = re.findall(pattern, cosm['price'][i])[0]\n"
     ]
    }
   ],
   "source": [
    "# price\n",
    "pattern = re.compile(r\"(\\d+).\\d+\")\n",
    "for i in range(len(cosm)):\n",
    "    cosm['price'][i] = re.findall(pattern, cosm['price'][i])[0]\n",
    "\n",
    "cosm['price'] = pd.to_numeric(cosm['price'])"
   ]
  },
  {
   "cell_type": "code",
   "execution_count": 9,
   "id": "083a424f",
   "metadata": {},
   "outputs": [
    {
     "name": "stdout",
     "output_type": "stream",
     "text": [
      "<class 'pandas.core.frame.DataFrame'>\n",
      "RangeIndex: 1472 entries, 0 to 1471\n",
      "Data columns (total 7 columns):\n",
      " #   Column       Non-Null Count  Dtype  \n",
      "---  ------       --------------  -----  \n",
      " 0   Label        1472 non-null   object \n",
      " 1   brand        1472 non-null   object \n",
      " 2   name         1472 non-null   object \n",
      " 3   price        1472 non-null   int64  \n",
      " 4   rank         1472 non-null   float64\n",
      " 5   skin_type    1472 non-null   object \n",
      " 6   ingredients  1472 non-null   object \n",
      "dtypes: float64(1), int64(1), object(5)\n",
      "memory usage: 80.6+ KB\n"
     ]
    }
   ],
   "source": [
    "# rank\n",
    "cosm['rank'].fillna(0, inplace = True)\n",
    "cosm.info()"
   ]
  },
  {
   "cell_type": "code",
   "execution_count": 10,
   "id": "5bb2ecdd",
   "metadata": {},
   "outputs": [
    {
     "name": "stderr",
     "output_type": "stream",
     "text": [
      "C:\\Users\\SAISAR~1.YEC\\AppData\\Local\\Temp/ipykernel_15648/1062899077.py:4: SettingWithCopyWarning: \n",
      "A value is trying to be set on a copy of a slice from a DataFrame\n",
      "\n",
      "See the caveats in the documentation: https://pandas.pydata.org/pandas-docs/stable/user_guide/indexing.html#returning-a-view-versus-a-copy\n",
      "  cosm['skin_type'][i] = re.findall(pattern, cosm['skin_type'][i])\n"
     ]
    }
   ],
   "source": [
    "# skin_type\n",
    "pattern = re.compile(r\"([a-zA-Z]+)\\\\n\")\n",
    "for i in range(len(cosm)):\n",
    "    cosm['skin_type'][i] = re.findall(pattern, cosm['skin_type'][i])"
   ]
  },
  {
   "cell_type": "code",
   "execution_count": 11,
   "id": "6af922ce",
   "metadata": {},
   "outputs": [],
   "source": [
    "# list column dummies\n",
    "df_2 = cosm['skin_type'].str.join('|').str.get_dummies()\n",
    "cosm_2 = cosm.join(df_2).drop('skin_type', axis = 1)"
   ]
  },
  {
   "cell_type": "code",
   "execution_count": 16,
   "id": "78852e30",
   "metadata": {},
   "outputs": [
    {
     "name": "stderr",
     "output_type": "stream",
     "text": [
      "C:\\Users\\SAISAR~1.YEC\\AppData\\Local\\Temp/ipykernel_15648/3001248997.py:9: SettingWithCopyWarning: \n",
      "A value is trying to be set on a copy of a slice from a DataFrame\n",
      "\n",
      "See the caveats in the documentation: https://pandas.pydata.org/pandas-docs/stable/user_guide/indexing.html#returning-a-view-versus-a-copy\n",
      "  cosm_2['ingredients'][i] = a[i][j]\n"
     ]
    }
   ],
   "source": [
    "# tokenize ingredients\n",
    "a = [t.split('\\r\\n\\r\\n') for t in cosm['ingredients']]\n",
    "pattern = ['\\r\\n', '-\\w+: ', 'Please', 'No Info', 'This product', 'Visit']\n",
    "\n",
    "for i in range(len(cosm)):\n",
    "    Num = len(a[i])\n",
    "    for j in range(Num):\n",
    "        if all(x not in a[i][j] for x in pattern):\n",
    "           cosm_2['ingredients'][i] = a[i][j]"
   ]
  },
  {
   "cell_type": "code",
   "execution_count": 19,
   "id": "7179fd11",
   "metadata": {},
   "outputs": [],
   "source": [
    "# save the file\n",
    "cosm_2.to_csv('datasets/cosmetic_preprocessed1.csv', encoding = 'utf-8-sig', index = False)"
   ]
  }
 ],
 "metadata": {
  "kernelspec": {
   "display_name": "Python 3 (ipykernel)",
   "language": "python",
   "name": "python3"
  },
  "language_info": {
   "codemirror_mode": {
    "name": "ipython",
    "version": 3
   },
   "file_extension": ".py",
   "mimetype": "text/x-python",
   "name": "python",
   "nbconvert_exporter": "python",
   "pygments_lexer": "ipython3",
   "version": "3.8.11"
  }
 },
 "nbformat": 4,
 "nbformat_minor": 5
}
