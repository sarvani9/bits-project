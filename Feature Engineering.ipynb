{
 "cells": [
  {
   "cell_type": "code",
   "execution_count": 1,
   "id": "3fb12b34",
   "metadata": {},
   "outputs": [],
   "source": [
    "# load relevant libraries\n",
    "import pandas as pd\n",
    "import numpy as np\n",
    "import scipy.stats as stats\n",
    "\n",
    "import matplotlib.pyplot as plt\n",
    "import seaborn as sns\n",
    "\n",
    "from sklearn.preprocessing import StandardScaler, FunctionTransformer, PowerTransformer\n",
    "from sklearn.model_selection import train_test_split, cross_val_score\n",
    "\n",
    "\n",
    "# load the dataset\n",
    "df= pd.read_csv('datasets/cosmetic_preprocessed.csv')"
   ]
  },
  {
   "cell_type": "code",
   "execution_count": 2,
   "id": "48e4f3eb",
   "metadata": {},
   "outputs": [],
   "source": [
    "X_train, X_test, y_train, y_test = train_test_split(\n",
    "    df,  # predictors\n",
    "    df['rank'],  # target\n",
    "    test_size=0.3,\n",
    "    random_state=0)"
   ]
  },
  {
   "cell_type": "code",
   "execution_count": 3,
   "id": "4fc5a5ad",
   "metadata": {},
   "outputs": [
    {
     "data": {
      "text/plain": [
       "((1030, 17), (442, 17))"
      ]
     },
     "execution_count": 3,
     "metadata": {},
     "output_type": "execute_result"
    }
   ],
   "source": [
    "X_train.shape, X_test.shape"
   ]
  },
  {
   "cell_type": "code",
   "execution_count": 4,
   "id": "19d330f6",
   "metadata": {},
   "outputs": [],
   "source": [
    "y_test=pd.DataFrame(y_test)\n",
    "y_train=pd.DataFrame(y_train)"
   ]
  },
  {
   "cell_type": "code",
   "execution_count": 5,
   "id": "8d01d194",
   "metadata": {},
   "outputs": [
    {
     "data": {
      "text/plain": [
       "['price',\n",
       " 'Combination',\n",
       " 'Dry',\n",
       " 'Full',\n",
       " 'Light',\n",
       " 'Matte',\n",
       " 'Medium',\n",
       " 'Natural',\n",
       " 'Normal',\n",
       " 'Oily',\n",
       " 'Radiant',\n",
       " 'Sensitive']"
      ]
     },
     "execution_count": 5,
     "metadata": {},
     "output_type": "execute_result"
    }
   ],
   "source": [
    "numerical_cols=[]\n",
    "for variables in X_train.columns:\n",
    "    if X_train[variables].dtype=='int64' or X_train[variables].dtype=='float64':\n",
    "        numerical_cols.append(variables)\n",
    "numerical_cols.remove('rank')\n",
    "numerical_cols"
   ]
  },
  {
   "cell_type": "code",
   "execution_count": 6,
   "id": "eb5b4e4f",
   "metadata": {},
   "outputs": [
    {
     "data": {
      "text/plain": [
       "['Label', 'brand', 'name', 'ingredients']"
      ]
     },
     "execution_count": 6,
     "metadata": {},
     "output_type": "execute_result"
    }
   ],
   "source": [
    "categorical_cols=[]\n",
    "for variables in X_train.columns:\n",
    "    if X_train[variables].dtype=='object':\n",
    "        categorical_cols.append(variables)\n",
    "        \n",
    "categorical_cols"
   ]
  },
  {
   "cell_type": "code",
   "execution_count": 7,
   "id": "4292956f",
   "metadata": {},
   "outputs": [
    {
     "data": {
      "text/plain": [
       "Label             6\n",
       "brand           116\n",
       "name           1472\n",
       "ingredients    1312\n",
       "dtype: int64"
      ]
     },
     "execution_count": 7,
     "metadata": {},
     "output_type": "execute_result"
    }
   ],
   "source": [
    "df[categorical_cols].nunique()"
   ]
  },
  {
   "cell_type": "code",
   "execution_count": 9,
   "id": "73fc264b",
   "metadata": {},
   "outputs": [
    {
     "name": "stderr",
     "output_type": "stream",
     "text": [
      "C:\\Users\\SAISAR~1.YEC\\AppData\\Local\\Temp/ipykernel_3440/310826252.py:7: SettingWithCopyWarning: \n",
      "A value is trying to be set on a copy of a slice from a DataFrame.\n",
      "Try using .loc[row_indexer,col_indexer] = value instead\n",
      "\n",
      "See the caveats in the documentation: https://pandas.pydata.org/pandas-docs/stable/user_guide/indexing.html#returning-a-view-versus-a-copy\n",
      "  df[variable] = df[variable].map(ordinal_mapping)\n",
      "C:\\Users\\sai.sarvani.yechuri\\Anaconda3\\lib\\site-packages\\pandas\\core\\series.py:4463: SettingWithCopyWarning: \n",
      "A value is trying to be set on a copy of a slice from a DataFrame\n",
      "\n",
      "See the caveats in the documentation: https://pandas.pydata.org/pandas-docs/stable/user_guide/indexing.html#returning-a-view-versus-a-copy\n",
      "  return super().fillna(\n"
     ]
    }
   ],
   "source": [
    "def find_category_mappings(df, variable, target):\n",
    " # grouping dataframe by variables, and get the mean of their target\n",
    " # place the average into a list\n",
    " return df.groupby([variable])[target].mean().to_dict()\n",
    "def integer_encode(df, variable, ordinal_mapping):\n",
    " # map each variable to their mean target\n",
    " df[variable] = df[variable].map(ordinal_mapping)\n",
    "for variable in categorical_cols:\n",
    " mappings = find_category_mappings(X_train, variable, 'rank')\n",
    " integer_encode(X_train, variable, mappings)\n",
    " integer_encode(X_test, variable, mappings)\n",
    "# for values that didn’t appear in the training set, set as 0\n",
    "X_test['brand'].fillna(0, inplace=True)\n",
    "X_test['Label'].fillna(0, inplace=True)"
   ]
  },
  {
   "cell_type": "code",
   "execution_count": null,
   "id": "868d520f",
   "metadata": {},
   "outputs": [],
   "source": []
  }
 ],
 "metadata": {
  "kernelspec": {
   "display_name": "Python 3 (ipykernel)",
   "language": "python",
   "name": "python3"
  },
  "language_info": {
   "codemirror_mode": {
    "name": "ipython",
    "version": 3
   },
   "file_extension": ".py",
   "mimetype": "text/x-python",
   "name": "python",
   "nbconvert_exporter": "python",
   "pygments_lexer": "ipython3",
   "version": "3.8.11"
  }
 },
 "nbformat": 4,
 "nbformat_minor": 5
}
